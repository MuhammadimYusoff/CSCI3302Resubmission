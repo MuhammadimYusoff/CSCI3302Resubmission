{
 "cells": [
  {
   "attachments": {},
   "cell_type": "markdown",
   "metadata": {},
   "source": [
    "# Coin Row Problem\n",
    "\n",
    "## Test Case 1\n",
    "Input: 5, 1, 2, 10, 6, 2\n"
   ]
  },
  {
   "cell_type": "code",
   "execution_count": 1,
   "metadata": {},
   "outputs": [
    {
     "name": "stdout",
     "output_type": "stream",
     "text": [
      "11\n"
     ]
    }
   ],
   "source": [
    "y = 10\n",
    "x = 1\n",
    "print(x + y)"
   ]
  },
  {
   "cell_type": "code",
   "execution_count": 2,
   "metadata": {},
   "outputs": [
    {
     "ename": "",
     "evalue": "",
     "output_type": "error",
     "traceback": [
      "\u001b[1;31mCanceled future for execute_request message before replies were done"
     ]
    },
    {
     "ename": "",
     "evalue": "",
     "output_type": "error",
     "traceback": [
      "\u001b[1;31mThe Kernel crashed while executing code in the the current cell or a previous cell. Please review the code in the cell(s) to identify a possible cause of the failure. Click <a href='https://aka.ms/vscodeJupyterKernelCrash'>here</a> for more info. View Jupyter <a href='command:jupyter.viewOutput'>log</a> for further details."
     ]
    }
   ],
   "source": [
    "def coins_row(coins, index):\n",
    "    if index == 0:\n",
    "        print(\"Any coins?\")\n",
    "    if index == 1:\n",
    "        return coins[0]\n",
    "    return max(coins_row(coins, index-1), coins_row(coins, index-2) + coins[index-1])\n",
    "\n",
    "coins = [5, 1, 2, 10, 6, 2]\n",
    "print(coins_row(coins, len(coins)))"
   ]
  },
  {
   "cell_type": "code",
   "execution_count": null,
   "metadata": {},
   "outputs": [
    {
     "ename": "",
     "evalue": "",
     "output_type": "error",
     "traceback": [
      "\u001b[1;31mCanceled future for execute_request message before replies were done"
     ]
    },
    {
     "ename": "",
     "evalue": "",
     "output_type": "error",
     "traceback": [
      "\u001b[1;31mThe Kernel crashed while executing code in the the current cell or a previous cell. Please review the code in the cell(s) to identify a possible cause of the failure. Click <a href='https://aka.ms/vscodeJupyterKernelCrash'>here</a> for more info. View Jupyter <a href='command:jupyter.viewOutput'>log</a> for further details."
     ]
    }
   ],
   "source": [
    "def coin_row(coins, index):\n",
    "    if index == 0:\n",
    "        print(\"Any Coins?\")\n",
    "    if index == 1:\n",
    "        return coins[0]\n",
    "    return max(coin_row(coins, index - 1), coin_row(coins, index - 2) + coins[index - 1])\n",
    "\n",
    "coins = [7, 2, 1, 12, 5]\n",
    "print(coin_row(coins, len(coins)))"
   ]
  },
  {
   "attachments": {},
   "cell_type": "markdown",
   "metadata": {},
   "source": [
    "# Knapsack Problem"
   ]
  },
  {
   "cell_type": "code",
   "execution_count": 1,
   "metadata": {},
   "outputs": [
    {
     "ename": "NameError",
     "evalue": "name 'knapSack' is not defined",
     "output_type": "error",
     "traceback": [
      "\u001b[1;31m---------------------------------------------------------------------------\u001b[0m",
      "\u001b[1;31mNameError\u001b[0m                                 Traceback (most recent call last)",
      "Cell \u001b[1;32mIn[1], line 7\u001b[0m\n\u001b[0;32m      4\u001b[0m C \u001b[39m=\u001b[39m \u001b[39m5\u001b[39m\n\u001b[0;32m      5\u001b[0m n \u001b[39m=\u001b[39m \u001b[39mlen\u001b[39m(value)\n\u001b[0;32m      6\u001b[0m \u001b[39mprint\u001b[39m(\n\u001b[1;32m----> 7\u001b[0m     knapSack(C, weight, value, n)\n\u001b[0;32m      8\u001b[0m )\n",
      "\u001b[1;31mNameError\u001b[0m: name 'knapSack' is not defined"
     ]
    }
   ],
   "source": [
    "# Driver code\n",
    "value = [12, 10, 20, 15]\n",
    "weight = [2, 1, 3, 2]\n",
    "C = 5\n",
    "n = len(value)\n",
    "print(\n",
    "    knapSack(C, weight, value, n)\n",
    ")"
   ]
  },
  {
   "cell_type": "code",
   "execution_count": 2,
   "metadata": {},
   "outputs": [],
   "source": [
    "def knapSack(C, weight, value, n):\n",
    "    K = [[0 for x in range(C + 1)] for x in range(n + 1)]\n",
    "    # Build table K[][] in bottom up manner\n",
    "    for i in range(n + 1):\n",
    "        for w in range(C + 1):\n",
    "            if i == 0 or w == 0:\n",
    "                K[i][w] = 0\n",
    "            elif weight[i-1] <= w:\n",
    "                K[i][w] = max(value[i-1]\n",
    "                        + K[i-1][w-weight[i-1]],\n",
    "                                K[i-1][w])\n",
    "            else:\n",
    "                K[i][w] = K[i-1][w]\n",
    "    return K[n][C]"
   ]
  }
 ],
 "metadata": {
  "kernelspec": {
   "display_name": "Python 3",
   "language": "python",
   "name": "python3"
  },
  "language_info": {
   "codemirror_mode": {
    "name": "ipython",
    "version": 3
   },
   "file_extension": ".py",
   "mimetype": "text/x-python",
   "name": "python",
   "nbconvert_exporter": "python",
   "pygments_lexer": "ipython3",
   "version": "3.10.9 (tags/v3.10.9:1dd9be6, Dec  6 2022, 20:01:21) [MSC v.1934 64 bit (AMD64)]"
  },
  "orig_nbformat": 4,
  "vscode": {
   "interpreter": {
    "hash": "39f2ac17b51dbe45ea6ba86f963dd6c7de11a327be2dc8f7c439175ca38e822f"
   }
  }
 },
 "nbformat": 4,
 "nbformat_minor": 2
}
